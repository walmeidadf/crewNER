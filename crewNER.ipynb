{
 "cells": [
  {
   "cell_type": "markdown",
   "id": "e744665e-7420-433f-8463-a674b66492d5",
   "metadata": {},
   "source": [
    "# Agentic NER Pipeline"
   ]
  },
  {
   "cell_type": "markdown",
   "id": "790ff40f-0146-47f9-84db-36997a267b8d",
   "metadata": {},
   "source": [
    "## Initial Imports"
   ]
  },
  {
   "cell_type": "code",
   "execution_count": 1,
   "id": "0e3c15b4-6886-4c22-a2a6-36005a50c035",
   "metadata": {
    "height": 200
   },
   "outputs": [],
   "source": [
    "# Warning control\n",
    "import warnings\n",
    "warnings.filterwarnings('ignore')\n",
    "\n",
    "# Load environment variables\n",
    "from helper import load_env\n",
    "load_env()\n",
    "\n",
    "import os\n",
    "import yaml\n",
    "import json\n",
    "\n",
    "from pydantic import BaseModel, Field\n",
    "from typing import List\n",
    "\n",
    "from crewai import Agent, Task, Crew"
   ]
  },
  {
   "cell_type": "markdown",
   "id": "b8402a3e-5e30-4b5e-8fa9-bed7403a62a7",
   "metadata": {},
   "source": [
    "## Define the OpenAI Model"
   ]
  },
  {
   "cell_type": "code",
   "execution_count": 2,
   "id": "f5e31c2e-ab46-4c55-80ad-9841f422ffc7",
   "metadata": {
    "height": 30
   },
   "outputs": [],
   "source": [
    "os.environ['OPENAI_MODEL_NAME'] = 'gpt-4o-mini'"
   ]
  },
  {
   "cell_type": "markdown",
   "id": "3ec2797f-c0de-451e-a73b-bff04f981172",
   "metadata": {},
   "source": [
    "## Loading Tasks and Agents YAML files"
   ]
  },
  {
   "cell_type": "code",
   "execution_count": 3,
   "id": "4c943fa8-fda9-495c-9225-a841af833fea",
   "metadata": {
    "height": 336
   },
   "outputs": [],
   "source": [
    "# Define file paths for YAML configurations\n",
    "files = {\n",
    "    'lead_agents': 'config/ner_annotation_agents.yaml',\n",
    "    'lead_tasks': 'config/ner_annotation_tasks.yaml',\n",
    "}\n",
    "\n",
    "# Load configurations from YAML files\n",
    "configs = {}\n",
    "for config_type, file_path in files.items():\n",
    "    with open(file_path, 'r') as file:\n",
    "        configs[config_type] = yaml.safe_load(file)\n",
    "\n",
    "# Assign loaded configurations to specific variables\n",
    "ner_agents_config = configs['lead_agents']\n",
    "ner_tasks_config = configs['lead_tasks']"
   ]
  },
  {
   "cell_type": "markdown",
   "id": "7e25d7e2-143d-4223-b770-75c5dcaa257e",
   "metadata": {},
   "source": [
    "## Create Pydantic Models for Structured Output"
   ]
  },
  {
   "cell_type": "code",
   "execution_count": 4,
   "id": "37bf1294",
   "metadata": {},
   "outputs": [],
   "source": [
    "class Entity(BaseModel):\n",
    "    text: str = Field(description=\"the exact text substring that was recognized as an entity\")\n",
    "    labels: List[str] = Field(description=\"A list of valid entities associated with the text substring.\")\n",
    "\n",
    "class EntitiesResult(BaseModel):\n",
    "    # summary: List[str] = Field(\"list of topics for summarizing the received text\")\n",
    "    entities: List[Entity] = Field(description=\"A list of entities containing the identified text substring and a list of labels associated with the substring.\")"
   ]
  },
  {
   "cell_type": "markdown",
   "id": "6a68f357-7b55-4bf4-a011-27f3df6d1f11",
   "metadata": {},
   "source": [
    "## Importing Tools"
   ]
  },
  {
   "cell_type": "code",
   "execution_count": 5,
   "id": "ad39d218-6727-4055-8ea7-c1610631f4ab",
   "metadata": {
    "height": 30
   },
   "outputs": [],
   "source": [
    "from crewai_tools import FileReadTool\n",
    "read_entities = FileReadTool(file_path='config/entities.md')"
   ]
  },
  {
   "cell_type": "markdown",
   "id": "7efd8c33-7009-4794-96b7-9a59c8669083",
   "metadata": {},
   "source": [
    "## NER Crew, Agents and Tasks"
   ]
  },
  {
   "cell_type": "code",
   "execution_count": 6,
   "id": "57e0ba2e-a86a-4a20-ab38-62eb89abdf57",
   "metadata": {
    "height": 829
   },
   "outputs": [],
   "source": [
    "# Creating Agents\n",
    "ner_annotator_agent = Agent(\n",
    "  config=ner_agents_config['ner_annotator_specialist'],\n",
    "  tools=[read_entities]\n",
    ")\n",
    "\n",
    "ner_reviewer_agent = Agent(\n",
    "  config=ner_agents_config['senior_ner_reviewer_specialist'],\n",
    "  tools=[read_entities]\n",
    ")\n",
    "\n",
    "# Creating Tasks\n",
    "ner_annotation_task = Task(\n",
    "  config=ner_tasks_config['ner_annotation'],\n",
    "  agent=ner_annotator_agent,\n",
    "  output_pydantic=EntitiesResult\n",
    ")\n",
    "\n",
    "ner_review_task = Task(\n",
    "  config=ner_tasks_config['ner_review_and_consolidation'],\n",
    "  agent=ner_reviewer_agent,\n",
    "  context=[ner_annotation_task],\n",
    "  output_pydantic=EntitiesResult\n",
    ")\n",
    "\n",
    "# Creating Crew\n",
    "ner_annotation_crew = Crew(\n",
    "  agents=[\n",
    "    ner_annotator_agent,\n",
    "    ner_reviewer_agent\n",
    "  ],\n",
    "  tasks=[\n",
    "    ner_annotation_task,\n",
    "    ner_review_task\n",
    "  ],\n",
    "  verbose=True\n",
    ")"
   ]
  },
  {
   "cell_type": "markdown",
   "id": "8a68cc42",
   "metadata": {},
   "source": [
    "## Running the Crew\n",
    "\n",
    "- Set the input for the execution of the crew."
   ]
  },
  {
   "cell_type": "code",
   "execution_count": 7,
   "id": "4cd87be3",
   "metadata": {},
   "outputs": [],
   "source": [
    "sentence = '''\n",
    "Neosaldina é um medicamento com atividade analgésica (diminui a dor) e antiespasmódica (diminui contração involuntária) indicado para o tratamento de diversos tipos de dor de cabeça, incluindo enxaquecas ou para o tratamento de cólicas.\n",
    "'''"
   ]
  },
  {
   "cell_type": "code",
   "execution_count": 8,
   "id": "e038b11e",
   "metadata": {},
   "outputs": [
    {
     "name": "stdout",
     "output_type": "stream",
     "text": [
      "\u001b[1m\u001b[95m# Agent:\u001b[00m \u001b[1m\u001b[92mNamed Entity Recognition (NER) Annotator Specialist\u001b[00m\n",
      "\u001b[95m## Task:\u001b[00m \u001b[92mAnnotate clinical sentences in Portuguese by identifying and tagging entities belonging to the assigned cluster of tags. Use the descriptions and examples of the entities as a guide to ensure precise and consistent annotation. Utilize tools to know more about the entities to detect and a use the description to recognize the entities. - text to be analyzed: \n",
      "Neosaldina é um medicamento com atividade analgésica (diminui a dor) e antiespasmódica (diminui contração involuntária) indicado para o tratamento de diversos tipos de dor de cabeça, incluindo enxaquecas ou para o tratamento de cólicas.\n",
      "\n",
      "\u001b[00m\n",
      "\n",
      "\n",
      "\u001b[1m\u001b[95m# Agent:\u001b[00m \u001b[1m\u001b[92mNamed Entity Recognition (NER) Annotator Specialist\u001b[00m\n",
      "\u001b[95m## Thought:\u001b[00m \u001b[92mI need to gather information about the specific entity tags for clinical annotations. This will help me accurately identify and tag the entities in the provided text.\u001b[00m\n",
      "\u001b[95m## Using tool:\u001b[00m \u001b[92mRead a file's content\u001b[00m\n",
      "\u001b[95m## Tool Input:\u001b[00m \u001b[92m\n",
      "\"{}\"\u001b[00m\n",
      "\u001b[95m## Tool Output:\u001b[00m \u001b[92m\n",
      "| entity_name                  | entity_description                                                                                                                                                                                                                                                                                                                                                                                      |\n",
      "| ---------------------------- | ------------------------------------------------------------------------------------------------------------------------------------------------------------------------------------------------------------------------------------------------------------------------------------------------------------------------------------------------------------------------------------------------------- |\n",
      "| Age                          | Refers to the age of a person, typically expressed in years. This can include specific ages, age ranges, or descriptions of life stages such as 'criança', 'adolescente', 'adulto', or 'velhice'.                                                                                                                                                                                                        |\n",
      "| Employment                   | Refers to the occupational titles and employment status of a person, including their job role, profession, or whether they are currently employed, unemployed, or a student.                                                                                                                                                                                                                            |\n",
      "| Gender                       | Refers to the gender identity of a person, which can be indicated through gender-specific nouns and pronouns. This includes terms that denote male, female, or non-binary identities.                                                                                                                                                                                                                   |\n",
      "| Race_Ethnicity               | Refers to sociocultural identifiers that indicate a person's racial or ethnic background. This includes terms that describe a person's heritage, cultural identity, or national origin.                                                                                                                                                                                                                 |\n",
      "| Relationship_Status          | Describes the current romantic or social relationship status of a person. This can include terms that indicate whether someone is single, married, divorced, or in a partnership.                                                                                                                                                                                                                       |\n",
      "| Test                         | Mentions of any laboratory, pathology, or radiological test that is performed to assess health conditions or diagnose diseases. This includes blood tests, imaging studies, and other diagnostic procedures.                                                                                                                                                                                            |\n",
      "| Test_Result                  | General results obtained from various medical tests, indicating the findings or outcomes of those tests. This includes interpretations of laboratory results, imaging findings, and other diagnostic assessments.                                                                                                                                                                                       |\n",
      "| Body_Weight_Status           | References to conditions related to body weight, including obesity and overweight, characterized by excessive body fat or weight greater than what is considered normal or healthy for a given height.                                                                                                                                                                                                  |\n",
      "| Diabetes                     | This entity encompasses conditions characterized by high blood sugar levels due to the body's inability to produce or effectively use insulin. It includes different types of diabetes, each with distinct causes and management strategies.                                                                                                                                                            |\n",
      "| Disease_Syndrome_Disorder    | This entity encompasses any medical condition that is classified as a disease, syndrome, or disorder. It includes a wide range of health issues that do not have specific labels or classifications. Examples include genetic disorders, autoimmune diseases, and chronic conditions that affect various bodily systems.                                                                                |\n",
      "| External_body_part_or_region | This entity refers to any visible or palpable part of the body that is located on the exterior, including limbs, head, neck, and torso. It encompasses various conditions or injuries that can affect these areas, such as bruises, swelling, cuts, trauma signs, and other physical abnormalities.                                                                                                     |\n",
      "| Hyperlipidemia               | This entity includes conditions characterized by elevated levels of lipids (fats) in the blood, particularly cholesterol. It encompasses various subtypes of hyperlipidemia, which can increase the risk of cardiovascular diseases and other health issues.                                                                                                                                            |\n",
      "| Hypertension                 | This entity refers to conditions related to high blood pressure. Hypertension can lead to serious health complications, including heart disease and stroke. It includes various stages and types of hypertension, often requiring lifestyle changes and medical treatment.                                                                                                                              |\n",
      "| Internal_organ_or_component  | This entity pertains to the internal organs and components of the body, which are not visible from the outside. It includes organs such as the liver, kidneys, lungs, heart, spleen, stomach, pancreas, gallbladder, and intestines. Conditions affecting these organs may include enlargement, cysts, opacity, murmurs, ulcers, and other pathological changes.                                        |\n",
      "| Lifestyle_Factors            | Mentions of lifestyle behaviors impacting health, including smoking status, alcohol consumption, and substance use. This encompasses patterns, frequency, and related health issues.                                                                                                                                                                                                                    |\n",
      "| Oncological                  | This entity refers to conditions related to cancer and tumors. It includes various types of malignancies, their stages, and related complications. Oncological conditions often require specialized treatment and management due to their complexity and potential severity.                                                                                                                            |\n",
      "| Psychological_Condition      | This entity encompasses a range of mental health disorders that affect an individual's emotional, psychological, and social well-being. It includes conditions that can impact mood, thinking, and behavior, often requiring psychological or psychiatric intervention.                                                                                                                                 |\n",
      "| Reproductive_Health          | Terms and phrases that refer to the condition of carrying a developing fetus within the female body, including various stages, risks, and types of pregnancies. the process of giving birth, including different methods and circumstances surrounding childbirth. processes involved in labor and delivery, including dilation, contractions, and the actual birth process.                            |\n",
      "| Vital_Signs                  | Refers to the parameters that are essential for assessing a patient's health status, such as: temperature, blood pressure, pulse, respiration, BMI, height, weight, O2 saturation, VS finding.                                                                                                                                                                                                          |\n",
      "| Family_History               | Information about the medical history of the patient's family, which can include hereditary conditions and diseases that may affect the patient.                                                                                                                                                                                                                                                        |\n",
      "| Medical_History              | Related to the patient's past medical history, including previous illnesses, surgeries, and treatments that may impact current health.                                                                                                                                                                                                                                                                  |\n",
      "| Social_History               | Refers to the patient's social history, which encompasses lifestyle factors such as alcohol consumption, smoking habits, and other social behaviors that may influence health.                                                                                                                                                                                                                          |\n",
      "| Access_To_Care               | Encompasses various barriers that patients may face in accessing healthcare services. It includes issues such as long wait times for appointments, significant distances to healthcare facilities, lack of public transportation, difficulties in obtaining specialist consultations, financial barriers to treatment, restrictions on access to medications, and shortages of resources for treatment. |\n",
      "| Insurance_Information        | Refers to the insurance details of a patient, including their insurance status, type of coverage, policy specifics, and eligibility for specific health plans.                                                                                                                                                                                                                                          |\n",
      "| Admission_Discharge          | This entity refers to terms and phrases that indicate the process of admitting a patient to a healthcare facility and discharging them after treatment. It includes specific dates, actions taken during the admission and discharge process, and any relevant medical procedures associated with these events.                                                                                         |\n",
      "| Clinical_Dept                | This entity encompasses various medical or surgical departments within a healthcare facility. It includes references to specific departments that provide specialized care, such as cardiology, oncology, pediatrics, and others. The entity captures the context in which patients are referred to or treated by these departments.                                                                    |\n",
      "| Healthcare_Institution       | Refers to various types of healthcare facilities where medical services are provided. It includes hospitals, clinics, health posts, urgent care units, rehabilitation centers, medical offices, clinical laboratories, and emergency rooms. These institutions can be public or private and serve different healthcare needs.                                                                           |\n",
      "| Org                          | This entity identifies mentions of health organizations, institutions, or authorities that play a role in public health and healthcare delivery. It includes governmental health departments, hospitals, and international health organizations, highlighting their significance in the healthcare system.                                                                                              |\n",
      "| Imaging_Technique            | Radio-graphic views or imaging techniques used to visualize the internal structures of the body for diagnostic purposes. These techniques help in identifying diseases, injuries, or abnormalities.                                                                                                                                                                                                     |\n",
      "| Procedure                    | Invasive medical or surgical procedures that involve entering the body to diagnose or treat a condition. These procedures often require anesthesia and can include a variety of techniques such as cutting, suturing, or inserting instruments.                                                                                                                                                         |\n",
      "| Treatment                    | Refers to non-invasive therapeutic interventions prescribed or administered to the patient. This includes a wide range of methods such as medications, physical therapies, and lifestyle changes aimed at alleviating symptoms or promoting recovery.                                                                                                                                                   |\n",
      "| Vaccine                      | Vaccine or vaccination procedures that involve the administration of a vaccine to stimulate the immune system against specific diseases. Vaccination is a key public health measure to prevent infectious diseases.                                                                                                                                                                                     |\n",
      "| Dosage                       | Prescribed quantity of a drug that indicates how much of the medication should be taken and how often. Dosage is critical for ensuring the effectiveness and safety of the treatment.                                                                                                                                                                                                                   |\n",
      "| Drug_Brand_Name              | Commercial name of drugs that are marketed under a specific brand. These names are often trademarked and are used to distinguish the product from other medications.                                                                                                                                                                                                                                    |\n",
      "| Drug_Ingredient              | Active ingredients in drugs that are responsible for the therapeutic effect. These substances are the main components of medications and are crucial for their efficacy.                                                                                                                                                                                                                                |\n",
      "| Form                         | Medication form that refers to the physical state or presentation of a drug. This can include tablets, liquids, creams, and other formulations that determine how the medication is administered.                                                                                                                                                                                                       |\n",
      "| Frequency                    | Administration frequency that specifies how often a medication should be taken. This can include daily, weekly, or specific intervals to ensure optimal therapeutic effects.                                                                                                                                                                                                                            |\n",
      "| Route                        | Route of drug administration that describes the method by which a medication is delivered to the body. This can include oral, intravenous, intramuscular, and other methods.                                                                                                                                                                                                                            |\n",
      "| Date                         | A specific point in time represented in various formats, indicating a particular day, month, and year. This can include full dates, abbreviated formats, or dates mentioned in relation to other events.                                                                                                                                                                                                |\n",
      "| Duration                     | The length of time for which a treatment or medication is prescribed or used, often expressed in days, weeks, or months, indicating how long a patient should continue a specific course of action.                                                                                                                                                                                                     |\n",
      "| Time                         | Specific references to time of day, which can include exact times, general periods of the day, or phrases that indicate a time frame for an event.                                                                                                                                                                                                                                                      |\n",
      "\u001b[00m\n",
      "\n",
      "\n",
      "\u001b[1m\u001b[95m# Agent:\u001b[00m \u001b[1m\u001b[92mNamed Entity Recognition (NER) Annotator Specialist\u001b[00m\n",
      "\u001b[95m## Final Answer:\u001b[00m \u001b[92m\n",
      "{\n",
      "  \"entities\": [\n",
      "    {\n",
      "      \"text\": \"Neosaldina\",\n",
      "      \"labels\": [\"Drug_Brand_Name\"]\n",
      "    },\n",
      "    {\n",
      "      \"text\": \"enxaquecas\",\n",
      "      \"labels\": [\"Disease_Syndrome_Disorder\"]\n",
      "    },\n",
      "    {\n",
      "      \"text\": \"cólicas\",\n",
      "      \"labels\": [\"Disease_Syndrome_Disorder\"]\n",
      "    }\n",
      "  ]\n",
      "}\u001b[00m\n",
      "\n",
      "\n",
      "\u001b[1m\u001b[95m# Agent:\u001b[00m \u001b[1m\u001b[92mSenior NER Review Specialist\u001b[00m\n",
      "\u001b[95m## Task:\u001b[00m \u001b[92mReview the of identified entities provided by NER Annotator Specialist for the text: \n",
      "Neosaldina é um medicamento com atividade analgésica (diminui a dor) e antiespasmódica (diminui contração involuntária) indicado para o tratamento de diversos tipos de dor de cabeça, incluindo enxaquecas ou para o tratamento de cólicas.\n",
      ". Validate the correctness of the annotations and consolidate the results into  a single unified output. Use the descriptions and examples of entities as a guide  to ensure precision. If annotations are insufficient or incorrect, request a  re-analysis from the relevant specialist. Utilize tools to know more about the entities to detect and a use the description to recognize the entities.\n",
      "\u001b[00m\n",
      "\n",
      "\n",
      "\u001b[1m\u001b[95m# Agent:\u001b[00m \u001b[1m\u001b[92mSenior NER Review Specialist\u001b[00m\n",
      "\u001b[95m## Thought:\u001b[00m \u001b[92mI need to validate the annotations provided by the NER Annotator Specialist against the guidelines and examples of entities. To do this effectively, I will first check the entity definitions and examples in the project guidelines.\u001b[00m\n",
      "\u001b[95m## Using tool:\u001b[00m \u001b[92mRead a file's content\u001b[00m\n",
      "\u001b[95m## Tool Input:\u001b[00m \u001b[92m\n",
      "\"{}\"\u001b[00m\n",
      "\u001b[95m## Tool Output:\u001b[00m \u001b[92m\n",
      "| entity_name                  | entity_description                                                                                                                                                                                                                                                                                                                                                                                      |\n",
      "| ---------------------------- | ------------------------------------------------------------------------------------------------------------------------------------------------------------------------------------------------------------------------------------------------------------------------------------------------------------------------------------------------------------------------------------------------------- |\n",
      "| Age                          | Refers to the age of a person, typically expressed in years. This can include specific ages, age ranges, or descriptions of life stages such as 'criança', 'adolescente', 'adulto', or 'velhice'.                                                                                                                                                                                                        |\n",
      "| Employment                   | Refers to the occupational titles and employment status of a person, including their job role, profession, or whether they are currently employed, unemployed, or a student.                                                                                                                                                                                                                            |\n",
      "| Gender                       | Refers to the gender identity of a person, which can be indicated through gender-specific nouns and pronouns. This includes terms that denote male, female, or non-binary identities.                                                                                                                                                                                                                   |\n",
      "| Race_Ethnicity               | Refers to sociocultural identifiers that indicate a person's racial or ethnic background. This includes terms that describe a person's heritage, cultural identity, or national origin.                                                                                                                                                                                                                 |\n",
      "| Relationship_Status          | Describes the current romantic or social relationship status of a person. This can include terms that indicate whether someone is single, married, divorced, or in a partnership.                                                                                                                                                                                                                       |\n",
      "| Test                         | Mentions of any laboratory, pathology, or radiological test that is performed to assess health conditions or diagnose diseases. This includes blood tests, imaging studies, and other diagnostic procedures.                                                                                                                                                                                            |\n",
      "| Test_Result                  | General results obtained from various medical tests, indicating the findings or outcomes of those tests. This includes interpretations of laboratory results, imaging findings, and other diagnostic assessments.                                                                                                                                                                                       |\n",
      "| Body_Weight_Status           | References to conditions related to body weight, including obesity and overweight, characterized by excessive body fat or weight greater than what is considered normal or healthy for a given height.                                                                                                                                                                                                  |\n",
      "| Diabetes                     | This entity encompasses conditions characterized by high blood sugar levels due to the body's inability to produce or effectively use insulin. It includes different types of diabetes, each with distinct causes and management strategies.                                                                                                                                                            |\n",
      "| Disease_Syndrome_Disorder    | This entity encompasses any medical condition that is classified as a disease, syndrome, or disorder. It includes a wide range of health issues that do not have specific labels or classifications. Examples include genetic disorders, autoimmune diseases, and chronic conditions that affect various bodily systems.                                                                                |\n",
      "| External_body_part_or_region | This entity refers to any visible or palpable part of the body that is located on the exterior, including limbs, head, neck, and torso. It encompasses various conditions or injuries that can affect these areas, such as bruises, swelling, cuts, trauma signs, and other physical abnormalities.                                                                                                     |\n",
      "| Hyperlipidemia               | This entity includes conditions characterized by elevated levels of lipids (fats) in the blood, particularly cholesterol. It encompasses various subtypes of hyperlipidemia, which can increase the risk of cardiovascular diseases and other health issues.                                                                                                                                            |\n",
      "| Hypertension                 | This entity refers to conditions related to high blood pressure. Hypertension can lead to serious health complications, including heart disease and stroke. It includes various stages and types of hypertension, often requiring lifestyle changes and medical treatment.                                                                                                                              |\n",
      "| Internal_organ_or_component  | This entity pertains to the internal organs and components of the body, which are not visible from the outside. It includes organs such as the liver, kidneys, lungs, heart, spleen, stomach, pancreas, gallbladder, and intestines. Conditions affecting these organs may include enlargement, cysts, opacity, murmurs, ulcers, and other pathological changes.                                        |\n",
      "| Lifestyle_Factors            | Mentions of lifestyle behaviors impacting health, including smoking status, alcohol consumption, and substance use. This encompasses patterns, frequency, and related health issues.                                                                                                                                                                                                                    |\n",
      "| Oncological                  | This entity refers to conditions related to cancer and tumors. It includes various types of malignancies, their stages, and related complications. Oncological conditions often require specialized treatment and management due to their complexity and potential severity.                                                                                                                            |\n",
      "| Psychological_Condition      | This entity encompasses a range of mental health disorders that affect an individual's emotional, psychological, and social well-being. It includes conditions that can impact mood, thinking, and behavior, often requiring psychological or psychiatric intervention.                                                                                                                                 |\n",
      "| Reproductive_Health          | Terms and phrases that refer to the condition of carrying a developing fetus within the female body, including various stages, risks, and types of pregnancies. the process of giving birth, including different methods and circumstances surrounding childbirth. processes involved in labor and delivery, including dilation, contractions, and the actual birth process.                            |\n",
      "| Vital_Signs                  | Refers to the parameters that are essential for assessing a patient's health status, such as: temperature, blood pressure, pulse, respiration, BMI, height, weight, O2 saturation, VS finding.                                                                                                                                                                                                          |\n",
      "| Family_History               | Information about the medical history of the patient's family, which can include hereditary conditions and diseases that may affect the patient.                                                                                                                                                                                                                                                        |\n",
      "| Medical_History              | Related to the patient's past medical history, including previous illnesses, surgeries, and treatments that may impact current health.                                                                                                                                                                                                                                                                  |\n",
      "| Social_History               | Refers to the patient's social history, which encompasses lifestyle factors such as alcohol consumption, smoking habits, and other social behaviors that may influence health.                                                                                                                                                                                                                          |\n",
      "| Access_To_Care               | Encompasses various barriers that patients may face in accessing healthcare services. It includes issues such as long wait times for appointments, significant distances to healthcare facilities, lack of public transportation, difficulties in obtaining specialist consultations, financial barriers to treatment, restrictions on access to medications, and shortages of resources for treatment. |\n",
      "| Insurance_Information        | Refers to the insurance details of a patient, including their insurance status, type of coverage, policy specifics, and eligibility for specific health plans.                                                                                                                                                                                                                                          |\n",
      "| Admission_Discharge          | This entity refers to terms and phrases that indicate the process of admitting a patient to a healthcare facility and discharging them after treatment. It includes specific dates, actions taken during the admission and discharge process, and any relevant medical procedures associated with these events.                                                                                         |\n",
      "| Clinical_Dept                | This entity encompasses various medical or surgical departments within a healthcare facility. It includes references to specific departments that provide specialized care, such as cardiology, oncology, pediatrics, and others. The entity captures the context in which patients are referred to or treated by these departments.                                                                    |\n",
      "| Healthcare_Institution       | Refers to various types of healthcare facilities where medical services are provided. It includes hospitals, clinics, health posts, urgent care units, rehabilitation centers, medical offices, clinical laboratories, and emergency rooms. These institutions can be public or private and serve different healthcare needs.                                                                           |\n",
      "| Org                          | This entity identifies mentions of health organizations, institutions, or authorities that play a role in public health and healthcare delivery. It includes governmental health departments, hospitals, and international health organizations, highlighting their significance in the healthcare system.                                                                                              |\n",
      "| Imaging_Technique            | Radio-graphic views or imaging techniques used to visualize the internal structures of the body for diagnostic purposes. These techniques help in identifying diseases, injuries, or abnormalities.                                                                                                                                                                                                     |\n",
      "| Procedure                    | Invasive medical or surgical procedures that involve entering the body to diagnose or treat a condition. These procedures often require anesthesia and can include a variety of techniques such as cutting, suturing, or inserting instruments.                                                                                                                                                         |\n",
      "| Treatment                    | Refers to non-invasive therapeutic interventions prescribed or administered to the patient. This includes a wide range of methods such as medications, physical therapies, and lifestyle changes aimed at alleviating symptoms or promoting recovery.                                                                                                                                                   |\n",
      "| Vaccine                      | Vaccine or vaccination procedures that involve the administration of a vaccine to stimulate the immune system against specific diseases. Vaccination is a key public health measure to prevent infectious diseases.                                                                                                                                                                                     |\n",
      "| Dosage                       | Prescribed quantity of a drug that indicates how much of the medication should be taken and how often. Dosage is critical for ensuring the effectiveness and safety of the treatment.                                                                                                                                                                                                                   |\n",
      "| Drug_Brand_Name              | Commercial name of drugs that are marketed under a specific brand. These names are often trademarked and are used to distinguish the product from other medications.                                                                                                                                                                                                                                    |\n",
      "| Drug_Ingredient              | Active ingredients in drugs that are responsible for the therapeutic effect. These substances are the main components of medications and are crucial for their efficacy.                                                                                                                                                                                                                                |\n",
      "| Form                         | Medication form that refers to the physical state or presentation of a drug. This can include tablets, liquids, creams, and other formulations that determine how the medication is administered.                                                                                                                                                                                                       |\n",
      "| Frequency                    | Administration frequency that specifies how often a medication should be taken. This can include daily, weekly, or specific intervals to ensure optimal therapeutic effects.                                                                                                                                                                                                                            |\n",
      "| Route                        | Route of drug administration that describes the method by which a medication is delivered to the body. This can include oral, intravenous, intramuscular, and other methods.                                                                                                                                                                                                                            |\n",
      "| Date                         | A specific point in time represented in various formats, indicating a particular day, month, and year. This can include full dates, abbreviated formats, or dates mentioned in relation to other events.                                                                                                                                                                                                |\n",
      "| Duration                     | The length of time for which a treatment or medication is prescribed or used, often expressed in days, weeks, or months, indicating how long a patient should continue a specific course of action.                                                                                                                                                                                                     |\n",
      "| Time                         | Specific references to time of day, which can include exact times, general periods of the day, or phrases that indicate a time frame for an event.                                                                                                                                                                                                                                                      |\n",
      "\u001b[00m\n",
      "\n",
      "\n",
      "\u001b[1m\u001b[95m# Agent:\u001b[00m \u001b[1m\u001b[92mSenior NER Review Specialist\u001b[00m\n",
      "\u001b[95m## Final Answer:\u001b[00m \u001b[92m\n",
      "{\n",
      "  \"entities\": [\n",
      "    {\n",
      "      \"text\": \"Neosaldina\",\n",
      "      \"labels\": [\"Drug_Brand_Name\"]\n",
      "    },\n",
      "    {\n",
      "      \"text\": \"enxaquecas\",\n",
      "      \"labels\": [\"Disease_Syndrome_Disorder\"]\n",
      "    },\n",
      "    {\n",
      "      \"text\": \"cólicas\",\n",
      "      \"labels\": [\"Disease_Syndrome_Disorder\"]\n",
      "    }\n",
      "  ]\n",
      "}\u001b[00m\n",
      "\n",
      "\n"
     ]
    }
   ],
   "source": [
    "result = ner_annotation_crew.kickoff(inputs={'sentence': sentence})"
   ]
  },
  {
   "cell_type": "markdown",
   "id": "69752619-a9b6-4361-89d4-cbd35dbcb0c0",
   "metadata": {},
   "source": [
    "## Usage Metrics and Costs"
   ]
  },
  {
   "cell_type": "code",
   "execution_count": 9,
   "id": "5d28d985",
   "metadata": {},
   "outputs": [
    {
     "name": "stdout",
     "output_type": "stream",
     "text": [
      "Total costs: $0.0011\n"
     ]
    },
    {
     "data": {
      "text/html": [
       "<div>\n",
       "<style scoped>\n",
       "    .dataframe tbody tr th:only-of-type {\n",
       "        vertical-align: middle;\n",
       "    }\n",
       "\n",
       "    .dataframe tbody tr th {\n",
       "        vertical-align: top;\n",
       "    }\n",
       "\n",
       "    .dataframe thead th {\n",
       "        text-align: right;\n",
       "    }\n",
       "</style>\n",
       "<table border=\"1\" class=\"dataframe\">\n",
       "  <thead>\n",
       "    <tr style=\"text-align: right;\">\n",
       "      <th></th>\n",
       "      <th>total_tokens</th>\n",
       "      <th>prompt_tokens</th>\n",
       "      <th>cached_prompt_tokens</th>\n",
       "      <th>completion_tokens</th>\n",
       "      <th>successful_requests</th>\n",
       "    </tr>\n",
       "  </thead>\n",
       "  <tbody>\n",
       "    <tr>\n",
       "      <th>0</th>\n",
       "      <td>7435</td>\n",
       "      <td>6547</td>\n",
       "      <td>0</td>\n",
       "      <td>888</td>\n",
       "      <td>4</td>\n",
       "    </tr>\n",
       "  </tbody>\n",
       "</table>\n",
       "</div>"
      ],
      "text/plain": [
       "   total_tokens  prompt_tokens  cached_prompt_tokens  completion_tokens  \\\n",
       "0          7435           6547                     0                888   \n",
       "\n",
       "   successful_requests  \n",
       "0                    4  "
      ]
     },
     "execution_count": 9,
     "metadata": {},
     "output_type": "execute_result"
    }
   ],
   "source": [
    "import pandas as pd\n",
    "\n",
    "costs = 0.150 * (ner_annotation_crew.usage_metrics.prompt_tokens + ner_annotation_crew.usage_metrics.completion_tokens) / 1_000_000\n",
    "print(f\"Total costs: ${costs:.4f}\")\n",
    "\n",
    "# Convert UsageMetrics instance to a DataFrame\n",
    "df_usage_metrics = pd.DataFrame([ner_annotation_crew.usage_metrics.dict()])\n",
    "df_usage_metrics"
   ]
  },
  {
   "cell_type": "markdown",
   "id": "729b2336-f71d-4760-b70e-6d831cd9fbd8",
   "metadata": {},
   "source": [
    "## Results"
   ]
  },
  {
   "cell_type": "code",
   "execution_count": 10,
   "id": "1b76c716",
   "metadata": {},
   "outputs": [
    {
     "data": {
      "text/plain": [
       "{'raw': '{\\n  \"entities\": [\\n    {\\n      \"text\": \"Neosaldina\",\\n      \"labels\": [\"Drug_Brand_Name\"]\\n    },\\n    {\\n      \"text\": \"enxaquecas\",\\n      \"labels\": [\"Disease_Syndrome_Disorder\"]\\n    },\\n    {\\n      \"text\": \"cólicas\",\\n      \"labels\": [\"Disease_Syndrome_Disorder\"]\\n    }\\n  ]\\n}',\n",
       " 'pydantic': {},\n",
       " 'json_dict': None,\n",
       " 'tasks_output': [{'description': 'Annotate clinical sentences in Portuguese by identifying and tagging entities belonging to the assigned cluster of tags. Use the descriptions and examples of the entities as a guide to ensure precise and consistent annotation. Utilize tools to know more about the entities to detect and a use the description to recognize the entities. - text to be analyzed: \\nNeosaldina é um medicamento com atividade analgésica (diminui a dor) e antiespasmódica (diminui contração involuntária) indicado para o tratamento de diversos tipos de dor de cabeça, incluindo enxaquecas ou para o tratamento de cólicas.\\n\\n',\n",
       "   'name': None,\n",
       "   'expected_output': 'A structured output and validated including: - Substrings of the sentence where entities were recognized. - A list of valid entities associated with each substring.\\n',\n",
       "   'summary': 'Annotate clinical sentences in Portuguese by identifying and tagging entities...',\n",
       "   'raw': '{\\n  \"entities\": [\\n    {\\n      \"text\": \"Neosaldina\",\\n      \"labels\": [\"Drug_Brand_Name\"]\\n    },\\n    {\\n      \"text\": \"enxaquecas\",\\n      \"labels\": [\"Disease_Syndrome_Disorder\"]\\n    },\\n    {\\n      \"text\": \"cólicas\",\\n      \"labels\": [\"Disease_Syndrome_Disorder\"]\\n    }\\n  ]\\n}',\n",
       "   'pydantic': {},\n",
       "   'json_dict': None,\n",
       "   'agent': 'Named Entity Recognition (NER) Annotator Specialist\\n',\n",
       "   'output_format': <OutputFormat.PYDANTIC: 'pydantic'>},\n",
       "  {'description': 'Review the of identified entities provided by NER Annotator Specialist for the text: \\nNeosaldina é um medicamento com atividade analgésica (diminui a dor) e antiespasmódica (diminui contração involuntária) indicado para o tratamento de diversos tipos de dor de cabeça, incluindo enxaquecas ou para o tratamento de cólicas.\\n. Validate the correctness of the annotations and consolidate the results into  a single unified output. Use the descriptions and examples of entities as a guide  to ensure precision. If annotations are insufficient or incorrect, request a  re-analysis from the relevant specialist. Utilize tools to know more about the entities to detect and a use the description to recognize the entities.\\n',\n",
       "   'name': None,\n",
       "   'expected_output': 'A structured output and validated including: - Substrings of the sentence where entities were recognized. - A list of valid entities associated with each substring.',\n",
       "   'summary': 'Review the of identified entities provided by NER Annotator Specialist...',\n",
       "   'raw': '{\\n  \"entities\": [\\n    {\\n      \"text\": \"Neosaldina\",\\n      \"labels\": [\"Drug_Brand_Name\"]\\n    },\\n    {\\n      \"text\": \"enxaquecas\",\\n      \"labels\": [\"Disease_Syndrome_Disorder\"]\\n    },\\n    {\\n      \"text\": \"cólicas\",\\n      \"labels\": [\"Disease_Syndrome_Disorder\"]\\n    }\\n  ]\\n}',\n",
       "   'pydantic': {},\n",
       "   'json_dict': None,\n",
       "   'agent': 'Senior NER Review Specialist\\n',\n",
       "   'output_format': <OutputFormat.PYDANTIC: 'pydantic'>}],\n",
       " 'token_usage': {'total_tokens': 7435,\n",
       "  'prompt_tokens': 6547,\n",
       "  'cached_prompt_tokens': 0,\n",
       "  'completion_tokens': 888,\n",
       "  'successful_requests': 4}}"
      ]
     },
     "execution_count": 10,
     "metadata": {},
     "output_type": "execute_result"
    }
   ],
   "source": [
    "result.dict()"
   ]
  },
  {
   "cell_type": "code",
   "execution_count": 11,
   "id": "93483462",
   "metadata": {},
   "outputs": [
    {
     "data": {
      "text/plain": [
       "{'entities': [{'text': 'Neosaldina', 'labels': ['Drug_Brand_Name']},\n",
       "  {'text': 'enxaquecas', 'labels': ['Disease_Syndrome_Disorder']},\n",
       "  {'text': 'cólicas', 'labels': ['Disease_Syndrome_Disorder']}]}"
      ]
     },
     "execution_count": 11,
     "metadata": {},
     "output_type": "execute_result"
    }
   ],
   "source": [
    "json.loads(result.raw)"
   ]
  }
 ],
 "metadata": {
  "kernelspec": {
   "display_name": "crewai",
   "language": "python",
   "name": "python3"
  },
  "language_info": {
   "codemirror_mode": {
    "name": "ipython",
    "version": 3
   },
   "file_extension": ".py",
   "mimetype": "text/x-python",
   "name": "python",
   "nbconvert_exporter": "python",
   "pygments_lexer": "ipython3",
   "version": "3.12.7"
  }
 },
 "nbformat": 4,
 "nbformat_minor": 5
}
